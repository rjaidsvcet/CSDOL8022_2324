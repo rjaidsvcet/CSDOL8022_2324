{
 "cells": [
  {
   "cell_type": "code",
   "execution_count": 1,
   "id": "d531a3b9-e9ed-44da-a617-643a826e9e54",
   "metadata": {},
   "outputs": [],
   "source": [
    "import numpy as np"
   ]
  },
  {
   "cell_type": "markdown",
   "id": "a99eb9a7-4ca3-4385-b78b-d5be290b4bcf",
   "metadata": {},
   "source": [
    "Declaring matrices"
   ]
  },
  {
   "cell_type": "code",
   "execution_count": 2,
   "id": "47f1ea38-f734-4455-93dd-e265d0742401",
   "metadata": {},
   "outputs": [
    {
     "name": "stdout",
     "output_type": "stream",
     "text": [
      "Matrix1 =\n",
      " [[ 5 10]\n",
      " [15 20]]\n",
      "\n",
      "Matrix2 =\n",
      " [[25 30]\n",
      " [35 40]]\n"
     ]
    }
   ],
   "source": [
    "mx1 = np.array([[5, 10], [15, 20]])\n",
    "mx2 = np.array([[25, 30], [35, 40]])\n",
    "\n",
    "print(\"Matrix1 =\\n\",mx1)\n",
    "print(\"\\nMatrix2 =\\n\",mx2)"
   ]
  },
  {
   "cell_type": "markdown",
   "id": "3bc3c33e-38e0-461a-8cc9-99af857ffe1b",
   "metadata": {},
   "source": [
    "Addition using Numpy methods"
   ]
  },
  {
   "cell_type": "code",
   "execution_count": 3,
   "id": "c76f8792-020e-4257-aa6f-0b1ab9fb6342",
   "metadata": {},
   "outputs": [
    {
     "name": "stdout",
     "output_type": "stream",
     "text": [
      "\n",
      "Addition of two matrices: \n",
      "[[30 40]\n",
      " [50 60]]\n"
     ]
    }
   ],
   "source": [
    "print (\"\\nAddition of two matrices: \")\n",
    "print (np.add(mx1,mx2))"
   ]
  },
  {
   "cell_type": "markdown",
   "id": "20f8a578-775e-4b47-b1f0-b1299870e8bd",
   "metadata": {},
   "source": [
    "Subtraction using Numpy methods"
   ]
  },
  {
   "cell_type": "code",
   "execution_count": 5,
   "id": "5b8e46ac-fc01-4700-a43a-0cd47718d369",
   "metadata": {},
   "outputs": [
    {
     "name": "stdout",
     "output_type": "stream",
     "text": [
      "\n",
      "Subtraction of two matrices: \n",
      "[[-20 -20]\n",
      " [-20 -20]]\n"
     ]
    }
   ],
   "source": [
    "print (\"\\nSubtraction of two matrices: \")\n",
    "print (np.subtract(mx1,mx2))"
   ]
  },
  {
   "cell_type": "markdown",
   "id": "0c30382a-bb11-49c3-afea-4c457de8bdae",
   "metadata": {},
   "source": [
    "Division using Numpy methods"
   ]
  },
  {
   "cell_type": "code",
   "execution_count": 6,
   "id": "68c7f1b0-da92-4627-8935-d300c376777b",
   "metadata": {},
   "outputs": [
    {
     "name": "stdout",
     "output_type": "stream",
     "text": [
      "\n",
      "Matrix Division: \n",
      "[[0.2        0.33333333]\n",
      " [0.42857143 0.5       ]]\n"
     ]
    }
   ],
   "source": [
    "print (\"\\nMatrix Division: \")\n",
    "print (np.divide(mx1,mx2))"
   ]
  },
  {
   "cell_type": "markdown",
   "id": "c8360b29-12ec-4bc6-9fb8-429ad97f8121",
   "metadata": {},
   "source": [
    "Multiplication using Numpy methods"
   ]
  },
  {
   "cell_type": "code",
   "execution_count": 8,
   "id": "6f515a75-74f0-4be2-917d-4515f2dde7f5",
   "metadata": {},
   "outputs": [
    {
     "name": "stdout",
     "output_type": "stream",
     "text": [
      "\n",
      "Multiplication of two matrices: \n",
      "[[125 300]\n",
      " [525 800]]\n"
     ]
    }
   ],
   "source": [
    "print (\"\\nMultiplication of two matrices: \")\n",
    "print (np.multiply(mx1,mx2))"
   ]
  },
  {
   "cell_type": "markdown",
   "id": "a76db3e2-9d90-4801-9552-95c94db11e32",
   "metadata": {},
   "source": [
    "<h4>Optimized methods of multiplication</h4>"
   ]
  },
  {
   "cell_type": "code",
   "execution_count": 9,
   "id": "bfd1fa99-6bcd-4651-aacd-a5d599616799",
   "metadata": {},
   "outputs": [
    {
     "data": {
      "text/plain": [
       "array([[ 475,  550],\n",
       "       [1075, 1250]])"
      ]
     },
     "execution_count": 9,
     "metadata": {},
     "output_type": "execute_result"
    }
   ],
   "source": [
    "mx1 @ mx2"
   ]
  },
  {
   "cell_type": "code",
   "execution_count": 10,
   "id": "32bc3f5a-9c9f-45a5-ae56-e46100377aef",
   "metadata": {},
   "outputs": [
    {
     "data": {
      "text/plain": [
       "array([[ 475,  550],\n",
       "       [1075, 1250]])"
      ]
     },
     "execution_count": 10,
     "metadata": {},
     "output_type": "execute_result"
    }
   ],
   "source": [
    "np.matmul (mx1, mx2)"
   ]
  },
  {
   "cell_type": "code",
   "execution_count": 11,
   "id": "994624d0-f924-41b9-8f88-f8b0317f70b4",
   "metadata": {},
   "outputs": [
    {
     "data": {
      "text/plain": [
       "array([[ 475,  550],\n",
       "       [1075, 1250]])"
      ]
     },
     "execution_count": 11,
     "metadata": {},
     "output_type": "execute_result"
    }
   ],
   "source": [
    "np.dot (mx1, mx2)"
   ]
  },
  {
   "cell_type": "markdown",
   "id": "5766ab10-7625-49bb-bfdb-836bc4f401fd",
   "metadata": {},
   "source": [
    "<h4>Summation of Matrix</h4>"
   ]
  },
  {
   "cell_type": "code",
   "execution_count": 14,
   "id": "3f34cdd6-508c-48e3-8a8f-f19c3e4e038c",
   "metadata": {},
   "outputs": [
    {
     "name": "stdout",
     "output_type": "stream",
     "text": [
      "Matrix =\n",
      " [[ 5 10]\n",
      " [15 20]]\n",
      "\n",
      "The summation of elements=\n",
      "50\n",
      "\n",
      "The column wise summation=\n",
      "[20 30]\n",
      "\n",
      "The row wise summation=\n",
      "[15 35]\n"
     ]
    }
   ],
   "source": [
    "mx = np.array([[5, 10], [15, 20]])\n",
    "\n",
    "print(\"Matrix =\\n\",mx)\n",
    "\n",
    "print (\"\\nThe summation of elements=\")\n",
    "print (np.sum(mx))\n",
    "\n",
    "print (\"\\nThe column wise summation=\")\n",
    "print (np.sum(mx,axis=0))\n",
    "\n",
    "print (\"\\nThe row wise summation=\")\n",
    "print (np.sum(mx,axis=1))"
   ]
  },
  {
   "cell_type": "markdown",
   "id": "d0a857f8-1a22-44ff-a7b9-a3ad9a80a234",
   "metadata": {},
   "source": [
    "<h4>Transpose of Matrix</h4>"
   ]
  },
  {
   "cell_type": "code",
   "execution_count": 15,
   "id": "665c63da-534d-4b89-b2b4-33906aaa5570",
   "metadata": {},
   "outputs": [
    {
     "name": "stdout",
     "output_type": "stream",
     "text": [
      "Matrix =\n",
      " [[ 5 10]\n",
      " [15 20]]\n",
      "\n",
      "The Transpose =\n",
      "[[ 5 15]\n",
      " [10 20]]\n"
     ]
    }
   ],
   "source": [
    "mx = np.array([[5, 10], [15, 20]])\n",
    "\n",
    "print(\"Matrix =\\n\",mx)\n",
    "\n",
    "print (\"\\nThe Transpose =\")\n",
    "print (mx.T)"
   ]
  },
  {
   "cell_type": "markdown",
   "id": "01218da7-ade3-4aa4-be85-29ea3741a2d3",
   "metadata": {},
   "source": [
    "#### Numpy method is also available"
   ]
  },
  {
   "cell_type": "code",
   "execution_count": 16,
   "id": "6644c644-b7f3-4471-948a-3eed68fa976c",
   "metadata": {},
   "outputs": [
    {
     "data": {
      "text/plain": [
       "array([[ 5, 15],\n",
       "       [10, 20]])"
      ]
     },
     "execution_count": 16,
     "metadata": {},
     "output_type": "execute_result"
    }
   ],
   "source": [
    "np.transpose (mx)"
   ]
  },
  {
   "cell_type": "markdown",
   "id": "6f0b3067-77ef-484b-b28a-64f7317bd844",
   "metadata": {},
   "source": [
    "#### Inverse of a matrix"
   ]
  },
  {
   "cell_type": "code",
   "execution_count": 17,
   "id": "0a880b0e-dc4a-41d0-aa68-01fb39f748d3",
   "metadata": {},
   "outputs": [
    {
     "data": {
      "text/plain": [
       "array([[-0.4,  0.2],\n",
       "       [ 0.3, -0.1]])"
      ]
     },
     "execution_count": 17,
     "metadata": {},
     "output_type": "execute_result"
    }
   ],
   "source": [
    "np.linalg.inv (mx)"
   ]
  }
 ],
 "metadata": {
  "kernelspec": {
   "display_name": "Python 3 (ipykernel)",
   "language": "python",
   "name": "python3"
  },
  "language_info": {
   "codemirror_mode": {
    "name": "ipython",
    "version": 3
   },
   "file_extension": ".py",
   "mimetype": "text/x-python",
   "name": "python",
   "nbconvert_exporter": "python",
   "pygments_lexer": "ipython3",
   "version": "3.11.5"
  }
 },
 "nbformat": 4,
 "nbformat_minor": 5
}
